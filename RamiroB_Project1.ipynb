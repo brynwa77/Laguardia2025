{
 "cells": [
  {
   "cell_type": "code",
   "execution_count": 3,
   "id": "29c03e96-03d8-48cd-b579-c7023653bb76",
   "metadata": {},
   "outputs": [
    {
     "name": "stdin",
     "output_type": "stream",
     "text": [
      "Which game do you want to play: 1 or 2?\n",
      "1: Even or Odd\n",
      "2: Evenly Divisible\n",
      "Enter your choice:  2\n",
      "Enter a number to check:  6789\n",
      "Enter a number to divide by:  65\n"
     ]
    },
    {
     "name": "stdout",
     "output_type": "stream",
     "text": [
      "65 does not divide evenly into 6789.\n"
     ]
    }
   ],
   "source": [
    "choice = input(\"Which game do you want to play: 1 or 2?\\n1: Even or Odd\\n2: Evenly Divisible\\nEnter your choice: \")\n",
    "if choice == \"1\":\n",
    "    num = int(input(\"Enter a number: \"))\n",
    "\n",
    "    if num % 4 == 0:\n",
    "        print(\"The number is a multiple of 4.\")\n",
    "    elif num % 2 == 0:\n",
    "        print(\"The number is even!\")\n",
    "    else:\n",
    "        print(\"The number is odd!\")\n",
    "\n",
    "elif choice == \"2\":\n",
    "    num = int(input(\"Enter a number to check: \"))\n",
    "    check = int(input(\"Enter a number to divide by: \"))\n",
    "    \n",
    "    if num % check == 0:\n",
    "        print(f\"{check} divides evenly into {num}.\")\n",
    "    else:\n",
    "        print(f\"{check} does not divide evenly into {num}.\")\n",
    "\n",
    "else:\n",
    "    print(\"Invalid choice. Please enter 1 or 2.\")"
   ]
  },
  {
   "cell_type": "code",
   "execution_count": null,
   "id": "65a85339-79ef-4081-9e4c-1cc2069976bc",
   "metadata": {},
   "outputs": [],
   "source": []
  }
 ],
 "metadata": {
  "kernelspec": {
   "display_name": "Python [conda env:base] *",
   "language": "python",
   "name": "conda-base-py"
  },
  "language_info": {
   "codemirror_mode": {
    "name": "ipython",
    "version": 3
   },
   "file_extension": ".py",
   "mimetype": "text/x-python",
   "name": "python",
   "nbconvert_exporter": "python",
   "pygments_lexer": "ipython3",
   "version": "3.12.7"
  }
 },
 "nbformat": 4,
 "nbformat_minor": 5
}
